{
 "cells": [
  {
   "cell_type": "markdown",
   "id": "a35e715a4fec008",
   "metadata": {
    "collapsed": false,
    "jupyter": {
     "outputs_hidden": false
    }
   },
   "source": [
    "## Logistic Regression with Lasso Regularization\n",
    "\n",
    "Lasso or L1 regularization is a regularization technique that seeks to zero out superfluous variables. \n",
    "\n",
    "Thus, this method performs both regression and feature selection at the same time. \n",
    "\n",
    "We will run this method and then explore retained features to get an idea about important features."
   ]
  },
  {
   "cell_type": "code",
   "execution_count": 1,
   "id": "initial_id",
   "metadata": {
    "ExecuteTime": {
     "end_time": "2023-12-14T16:44:25.299665159Z",
     "start_time": "2023-12-14T16:44:25.251815980Z"
    },
    "collapsed": false,
    "jupyter": {
     "outputs_hidden": false
    }
   },
   "outputs": [],
   "source": [
    "import os\n",
    "import sys\n",
    "\n",
    "import pandas as pd\n",
    "import numpy as np\n",
    "\n",
    "import matplotlib.pyplot as plt\n",
    "\n",
    "from sklearn.model_selection import cross_validate\n",
    "\n",
    "from sklearn.linear_model import LogisticRegression\n",
    "from sklearn.inspection import permutation_importance\n",
    "\n",
    "%matplotlib inline"
   ]
  },
  {
   "cell_type": "code",
   "execution_count": 2,
   "id": "ce77f261cb602d50",
   "metadata": {
    "ExecuteTime": {
     "end_time": "2023-12-14T16:44:25.316417993Z",
     "start_time": "2023-12-14T16:44:25.314930972Z"
    },
    "collapsed": false,
    "jupyter": {
     "outputs_hidden": false
    }
   },
   "outputs": [],
   "source": [
    "module_path = os.path.abspath(os.path.join('../'))\n",
    "if module_path not in sys.path:\n",
    "    sys.path.append(module_path)"
   ]
  },
  {
   "cell_type": "code",
   "execution_count": 3,
   "id": "1230f4985b9bff23",
   "metadata": {
    "ExecuteTime": {
     "end_time": "2023-12-14T16:44:25.315929652Z",
     "start_time": "2023-12-14T16:44:25.300909349Z"
    },
    "collapsed": false,
    "jupyter": {
     "outputs_hidden": false
    }
   },
   "outputs": [],
   "source": [
    "from src.utils import within_subject_functional_normalization"
   ]
  },
  {
   "cell_type": "code",
   "execution_count": 4,
   "id": "4709207a0d2a9264",
   "metadata": {
    "ExecuteTime": {
     "end_time": "2023-12-14T16:44:25.339777096Z",
     "start_time": "2023-12-14T16:44:25.317863739Z"
    },
    "collapsed": false,
    "jupyter": {
     "outputs_hidden": false
    }
   },
   "outputs": [],
   "source": [
    "from src.config import AUDIO_FUNCTIONALS_EGEMAPS_V2_COLS_NEW_FEATURES, var_name_to_feat\n",
    "from src.utils import evaluate_scores, get_splits\n",
    "from src.plots.misc import plot_hist"
   ]
  },
  {
   "cell_type": "code",
   "execution_count": 5,
   "id": "f60265357bef4f99",
   "metadata": {
    "ExecuteTime": {
     "end_time": "2023-12-14T16:44:25.369780922Z",
     "start_time": "2023-12-14T16:44:25.324961815Z"
    },
    "collapsed": false,
    "jupyter": {
     "outputs_hidden": false
    }
   },
   "outputs": [
    {
     "data": {
      "text/html": [
       "<div>\n",
       "<style scoped>\n",
       "    .dataframe tbody tr th:only-of-type {\n",
       "        vertical-align: middle;\n",
       "    }\n",
       "\n",
       "    .dataframe tbody tr th {\n",
       "        vertical-align: top;\n",
       "    }\n",
       "\n",
       "    .dataframe thead th {\n",
       "        text-align: right;\n",
       "    }\n",
       "</style>\n",
       "<table border=\"1\" class=\"dataframe\">\n",
       "  <thead>\n",
       "    <tr style=\"text-align: right;\">\n",
       "      <th></th>\n",
       "      <th>Unnamed: 0.1</th>\n",
       "      <th>Unnamed: 0</th>\n",
       "      <th>F0semitoneFrom27.5Hz_sma3nz_amean</th>\n",
       "      <th>F0semitoneFrom27.5Hz_sma3nz_stddevNorm</th>\n",
       "      <th>F0semitoneFrom27.5Hz_sma3nz_percentile20.0</th>\n",
       "      <th>F0semitoneFrom27.5Hz_sma3nz_percentile50.0</th>\n",
       "      <th>F0semitoneFrom27.5Hz_sma3nz_percentile80.0</th>\n",
       "      <th>F0semitoneFrom27.5Hz_sma3nz_pctlrange0-2</th>\n",
       "      <th>F0semitoneFrom27.5Hz_sma3nz_meanRisingSlope</th>\n",
       "      <th>F0semitoneFrom27.5Hz_sma3nz_stddevRisingSlope</th>\n",
       "      <th>...</th>\n",
       "      <th>accuracy</th>\n",
       "      <th>confidence_level</th>\n",
       "      <th>confidence_type</th>\n",
       "      <th>free_cued_recall</th>\n",
       "      <th>CumPauseLength</th>\n",
       "      <th>MeanPauseSegmentLength</th>\n",
       "      <th>PausesAbove0.5Sec</th>\n",
       "      <th>PausesAbove1Sec</th>\n",
       "      <th>PausesAbove1.5Sec</th>\n",
       "      <th>PausesAbove2Sec</th>\n",
       "    </tr>\n",
       "  </thead>\n",
       "  <tbody>\n",
       "    <tr>\n",
       "      <th>0</th>\n",
       "      <td>0</td>\n",
       "      <td>0</td>\n",
       "      <td>33.207450</td>\n",
       "      <td>0.188117</td>\n",
       "      <td>33.557415</td>\n",
       "      <td>35.970253</td>\n",
       "      <td>37.030464</td>\n",
       "      <td>3.473049</td>\n",
       "      <td>233.493740</td>\n",
       "      <td>237.09804</td>\n",
       "      <td>...</td>\n",
       "      <td>0</td>\n",
       "      <td>20.0</td>\n",
       "      <td>1.0</td>\n",
       "      <td>2</td>\n",
       "      <td>1.78</td>\n",
       "      <td>0.296667</td>\n",
       "      <td>1.0</td>\n",
       "      <td>1.0</td>\n",
       "      <td>0.0</td>\n",
       "      <td>0.0</td>\n",
       "    </tr>\n",
       "    <tr>\n",
       "      <th>1</th>\n",
       "      <td>1</td>\n",
       "      <td>0</td>\n",
       "      <td>31.973427</td>\n",
       "      <td>0.172323</td>\n",
       "      <td>24.031258</td>\n",
       "      <td>33.894035</td>\n",
       "      <td>36.294712</td>\n",
       "      <td>12.263454</td>\n",
       "      <td>36.486237</td>\n",
       "      <td>7.24742</td>\n",
       "      <td>...</td>\n",
       "      <td>1</td>\n",
       "      <td>80.0</td>\n",
       "      <td>1.0</td>\n",
       "      <td>2</td>\n",
       "      <td>1.58</td>\n",
       "      <td>0.395000</td>\n",
       "      <td>1.0</td>\n",
       "      <td>1.0</td>\n",
       "      <td>0.0</td>\n",
       "      <td>0.0</td>\n",
       "    </tr>\n",
       "    <tr>\n",
       "      <th>2</th>\n",
       "      <td>2</td>\n",
       "      <td>0</td>\n",
       "      <td>23.677464</td>\n",
       "      <td>0.129553</td>\n",
       "      <td>22.237234</td>\n",
       "      <td>23.013530</td>\n",
       "      <td>25.102104</td>\n",
       "      <td>2.864870</td>\n",
       "      <td>145.572220</td>\n",
       "      <td>159.39350</td>\n",
       "      <td>...</td>\n",
       "      <td>1</td>\n",
       "      <td>60.0</td>\n",
       "      <td>1.0</td>\n",
       "      <td>2</td>\n",
       "      <td>7.48</td>\n",
       "      <td>0.325217</td>\n",
       "      <td>5.0</td>\n",
       "      <td>1.0</td>\n",
       "      <td>0.0</td>\n",
       "      <td>0.0</td>\n",
       "    </tr>\n",
       "    <tr>\n",
       "      <th>3</th>\n",
       "      <td>3</td>\n",
       "      <td>0</td>\n",
       "      <td>33.611103</td>\n",
       "      <td>0.090990</td>\n",
       "      <td>33.551422</td>\n",
       "      <td>34.227577</td>\n",
       "      <td>34.913113</td>\n",
       "      <td>1.361690</td>\n",
       "      <td>123.937220</td>\n",
       "      <td>74.90742</td>\n",
       "      <td>...</td>\n",
       "      <td>1</td>\n",
       "      <td>100.0</td>\n",
       "      <td>2.0</td>\n",
       "      <td>2</td>\n",
       "      <td>0.09</td>\n",
       "      <td>0.090000</td>\n",
       "      <td>0.0</td>\n",
       "      <td>0.0</td>\n",
       "      <td>0.0</td>\n",
       "      <td>0.0</td>\n",
       "    </tr>\n",
       "    <tr>\n",
       "      <th>4</th>\n",
       "      <td>4</td>\n",
       "      <td>0</td>\n",
       "      <td>31.766670</td>\n",
       "      <td>0.110006</td>\n",
       "      <td>31.128075</td>\n",
       "      <td>31.511560</td>\n",
       "      <td>33.566906</td>\n",
       "      <td>2.438831</td>\n",
       "      <td>31.893764</td>\n",
       "      <td>36.00795</td>\n",
       "      <td>...</td>\n",
       "      <td>1</td>\n",
       "      <td>80.0</td>\n",
       "      <td>1.0</td>\n",
       "      <td>2</td>\n",
       "      <td>1.29</td>\n",
       "      <td>0.215000</td>\n",
       "      <td>1.0</td>\n",
       "      <td>0.0</td>\n",
       "      <td>0.0</td>\n",
       "      <td>0.0</td>\n",
       "    </tr>\n",
       "    <tr>\n",
       "      <th>...</th>\n",
       "      <td>...</td>\n",
       "      <td>...</td>\n",
       "      <td>...</td>\n",
       "      <td>...</td>\n",
       "      <td>...</td>\n",
       "      <td>...</td>\n",
       "      <td>...</td>\n",
       "      <td>...</td>\n",
       "      <td>...</td>\n",
       "      <td>...</td>\n",
       "      <td>...</td>\n",
       "      <td>...</td>\n",
       "      <td>...</td>\n",
       "      <td>...</td>\n",
       "      <td>...</td>\n",
       "      <td>...</td>\n",
       "      <td>...</td>\n",
       "      <td>...</td>\n",
       "      <td>...</td>\n",
       "      <td>...</td>\n",
       "      <td>...</td>\n",
       "    </tr>\n",
       "    <tr>\n",
       "      <th>3332</th>\n",
       "      <td>3332</td>\n",
       "      <td>0</td>\n",
       "      <td>20.228983</td>\n",
       "      <td>0.246194</td>\n",
       "      <td>14.451830</td>\n",
       "      <td>20.386751</td>\n",
       "      <td>26.042356</td>\n",
       "      <td>11.590527</td>\n",
       "      <td>245.911530</td>\n",
       "      <td>198.15411</td>\n",
       "      <td>...</td>\n",
       "      <td>1</td>\n",
       "      <td>80.0</td>\n",
       "      <td>1.0</td>\n",
       "      <td>2</td>\n",
       "      <td>2.67</td>\n",
       "      <td>0.381429</td>\n",
       "      <td>3.0</td>\n",
       "      <td>1.0</td>\n",
       "      <td>0.0</td>\n",
       "      <td>0.0</td>\n",
       "    </tr>\n",
       "    <tr>\n",
       "      <th>3333</th>\n",
       "      <td>3333</td>\n",
       "      <td>0</td>\n",
       "      <td>31.126240</td>\n",
       "      <td>0.114296</td>\n",
       "      <td>31.571873</td>\n",
       "      <td>32.327450</td>\n",
       "      <td>32.699960</td>\n",
       "      <td>1.128086</td>\n",
       "      <td>324.486900</td>\n",
       "      <td>250.81499</td>\n",
       "      <td>...</td>\n",
       "      <td>1</td>\n",
       "      <td>80.0</td>\n",
       "      <td>2.0</td>\n",
       "      <td>2</td>\n",
       "      <td>1.00</td>\n",
       "      <td>0.166667</td>\n",
       "      <td>0.0</td>\n",
       "      <td>0.0</td>\n",
       "      <td>0.0</td>\n",
       "      <td>0.0</td>\n",
       "    </tr>\n",
       "    <tr>\n",
       "      <th>3334</th>\n",
       "      <td>3334</td>\n",
       "      <td>0</td>\n",
       "      <td>29.766552</td>\n",
       "      <td>0.129714</td>\n",
       "      <td>29.915512</td>\n",
       "      <td>30.895258</td>\n",
       "      <td>31.772797</td>\n",
       "      <td>1.857285</td>\n",
       "      <td>259.278050</td>\n",
       "      <td>369.85800</td>\n",
       "      <td>...</td>\n",
       "      <td>1</td>\n",
       "      <td>100.0</td>\n",
       "      <td>1.0</td>\n",
       "      <td>1</td>\n",
       "      <td>1.92</td>\n",
       "      <td>0.174545</td>\n",
       "      <td>0.0</td>\n",
       "      <td>0.0</td>\n",
       "      <td>0.0</td>\n",
       "      <td>0.0</td>\n",
       "    </tr>\n",
       "    <tr>\n",
       "      <th>3335</th>\n",
       "      <td>3335</td>\n",
       "      <td>0</td>\n",
       "      <td>33.463300</td>\n",
       "      <td>0.230548</td>\n",
       "      <td>24.733616</td>\n",
       "      <td>36.905180</td>\n",
       "      <td>38.047897</td>\n",
       "      <td>13.314281</td>\n",
       "      <td>255.713210</td>\n",
       "      <td>0.00000</td>\n",
       "      <td>...</td>\n",
       "      <td>1</td>\n",
       "      <td>100.0</td>\n",
       "      <td>1.0</td>\n",
       "      <td>1</td>\n",
       "      <td>0.00</td>\n",
       "      <td>0.000000</td>\n",
       "      <td>0.0</td>\n",
       "      <td>0.0</td>\n",
       "      <td>0.0</td>\n",
       "      <td>0.0</td>\n",
       "    </tr>\n",
       "    <tr>\n",
       "      <th>3336</th>\n",
       "      <td>3336</td>\n",
       "      <td>0</td>\n",
       "      <td>33.071740</td>\n",
       "      <td>0.109609</td>\n",
       "      <td>32.420900</td>\n",
       "      <td>33.002155</td>\n",
       "      <td>34.270992</td>\n",
       "      <td>1.850094</td>\n",
       "      <td>168.156110</td>\n",
       "      <td>159.84912</td>\n",
       "      <td>...</td>\n",
       "      <td>1</td>\n",
       "      <td>60.0</td>\n",
       "      <td>1.0</td>\n",
       "      <td>2</td>\n",
       "      <td>1.04</td>\n",
       "      <td>0.208000</td>\n",
       "      <td>0.0</td>\n",
       "      <td>0.0</td>\n",
       "      <td>0.0</td>\n",
       "      <td>0.0</td>\n",
       "    </tr>\n",
       "  </tbody>\n",
       "</table>\n",
       "<p>3337 rows × 105 columns</p>\n",
       "</div>"
      ],
      "text/plain": [
       "      Unnamed: 0.1  Unnamed: 0  F0semitoneFrom27.5Hz_sma3nz_amean  \\\n",
       "0                0           0                          33.207450   \n",
       "1                1           0                          31.973427   \n",
       "2                2           0                          23.677464   \n",
       "3                3           0                          33.611103   \n",
       "4                4           0                          31.766670   \n",
       "...            ...         ...                                ...   \n",
       "3332          3332           0                          20.228983   \n",
       "3333          3333           0                          31.126240   \n",
       "3334          3334           0                          29.766552   \n",
       "3335          3335           0                          33.463300   \n",
       "3336          3336           0                          33.071740   \n",
       "\n",
       "      F0semitoneFrom27.5Hz_sma3nz_stddevNorm  \\\n",
       "0                                   0.188117   \n",
       "1                                   0.172323   \n",
       "2                                   0.129553   \n",
       "3                                   0.090990   \n",
       "4                                   0.110006   \n",
       "...                                      ...   \n",
       "3332                                0.246194   \n",
       "3333                                0.114296   \n",
       "3334                                0.129714   \n",
       "3335                                0.230548   \n",
       "3336                                0.109609   \n",
       "\n",
       "      F0semitoneFrom27.5Hz_sma3nz_percentile20.0  \\\n",
       "0                                      33.557415   \n",
       "1                                      24.031258   \n",
       "2                                      22.237234   \n",
       "3                                      33.551422   \n",
       "4                                      31.128075   \n",
       "...                                          ...   \n",
       "3332                                   14.451830   \n",
       "3333                                   31.571873   \n",
       "3334                                   29.915512   \n",
       "3335                                   24.733616   \n",
       "3336                                   32.420900   \n",
       "\n",
       "      F0semitoneFrom27.5Hz_sma3nz_percentile50.0  \\\n",
       "0                                      35.970253   \n",
       "1                                      33.894035   \n",
       "2                                      23.013530   \n",
       "3                                      34.227577   \n",
       "4                                      31.511560   \n",
       "...                                          ...   \n",
       "3332                                   20.386751   \n",
       "3333                                   32.327450   \n",
       "3334                                   30.895258   \n",
       "3335                                   36.905180   \n",
       "3336                                   33.002155   \n",
       "\n",
       "      F0semitoneFrom27.5Hz_sma3nz_percentile80.0  \\\n",
       "0                                      37.030464   \n",
       "1                                      36.294712   \n",
       "2                                      25.102104   \n",
       "3                                      34.913113   \n",
       "4                                      33.566906   \n",
       "...                                          ...   \n",
       "3332                                   26.042356   \n",
       "3333                                   32.699960   \n",
       "3334                                   31.772797   \n",
       "3335                                   38.047897   \n",
       "3336                                   34.270992   \n",
       "\n",
       "      F0semitoneFrom27.5Hz_sma3nz_pctlrange0-2  \\\n",
       "0                                     3.473049   \n",
       "1                                    12.263454   \n",
       "2                                     2.864870   \n",
       "3                                     1.361690   \n",
       "4                                     2.438831   \n",
       "...                                        ...   \n",
       "3332                                 11.590527   \n",
       "3333                                  1.128086   \n",
       "3334                                  1.857285   \n",
       "3335                                 13.314281   \n",
       "3336                                  1.850094   \n",
       "\n",
       "      F0semitoneFrom27.5Hz_sma3nz_meanRisingSlope  \\\n",
       "0                                      233.493740   \n",
       "1                                       36.486237   \n",
       "2                                      145.572220   \n",
       "3                                      123.937220   \n",
       "4                                       31.893764   \n",
       "...                                           ...   \n",
       "3332                                   245.911530   \n",
       "3333                                   324.486900   \n",
       "3334                                   259.278050   \n",
       "3335                                   255.713210   \n",
       "3336                                   168.156110   \n",
       "\n",
       "      F0semitoneFrom27.5Hz_sma3nz_stddevRisingSlope  ...  accuracy  \\\n",
       "0                                         237.09804  ...         0   \n",
       "1                                           7.24742  ...         1   \n",
       "2                                         159.39350  ...         1   \n",
       "3                                          74.90742  ...         1   \n",
       "4                                          36.00795  ...         1   \n",
       "...                                             ...  ...       ...   \n",
       "3332                                      198.15411  ...         1   \n",
       "3333                                      250.81499  ...         1   \n",
       "3334                                      369.85800  ...         1   \n",
       "3335                                        0.00000  ...         1   \n",
       "3336                                      159.84912  ...         1   \n",
       "\n",
       "      confidence_level  confidence_type  free_cued_recall  CumPauseLength  \\\n",
       "0                 20.0              1.0                 2            1.78   \n",
       "1                 80.0              1.0                 2            1.58   \n",
       "2                 60.0              1.0                 2            7.48   \n",
       "3                100.0              2.0                 2            0.09   \n",
       "4                 80.0              1.0                 2            1.29   \n",
       "...                ...              ...               ...             ...   \n",
       "3332              80.0              1.0                 2            2.67   \n",
       "3333              80.0              2.0                 2            1.00   \n",
       "3334             100.0              1.0                 1            1.92   \n",
       "3335             100.0              1.0                 1            0.00   \n",
       "3336              60.0              1.0                 2            1.04   \n",
       "\n",
       "      MeanPauseSegmentLength  PausesAbove0.5Sec  PausesAbove1Sec  \\\n",
       "0                   0.296667                1.0              1.0   \n",
       "1                   0.395000                1.0              1.0   \n",
       "2                   0.325217                5.0              1.0   \n",
       "3                   0.090000                0.0              0.0   \n",
       "4                   0.215000                1.0              0.0   \n",
       "...                      ...                ...              ...   \n",
       "3332                0.381429                3.0              1.0   \n",
       "3333                0.166667                0.0              0.0   \n",
       "3334                0.174545                0.0              0.0   \n",
       "3335                0.000000                0.0              0.0   \n",
       "3336                0.208000                0.0              0.0   \n",
       "\n",
       "      PausesAbove1.5Sec  PausesAbove2Sec  \n",
       "0                   0.0              0.0  \n",
       "1                   0.0              0.0  \n",
       "2                   0.0              0.0  \n",
       "3                   0.0              0.0  \n",
       "4                   0.0              0.0  \n",
       "...                 ...              ...  \n",
       "3332                0.0              0.0  \n",
       "3333                0.0              0.0  \n",
       "3334                0.0              0.0  \n",
       "3335                0.0              0.0  \n",
       "3336                0.0              0.0  \n",
       "\n",
       "[3337 rows x 105 columns]"
      ]
     },
     "execution_count": 5,
     "metadata": {},
     "output_type": "execute_result"
    }
   ],
   "source": [
    "df = pd.read_csv(\"../data/master_functionals_new_features.csv\")\n",
    "df"
   ]
  },
  {
   "cell_type": "code",
   "execution_count": 6,
   "id": "6289e066818646c6",
   "metadata": {
    "ExecuteTime": {
     "end_time": "2023-12-14T16:44:25.371695352Z",
     "start_time": "2023-12-14T16:44:25.369356596Z"
    },
    "collapsed": false,
    "jupyter": {
     "outputs_hidden": false
    }
   },
   "outputs": [
    {
     "data": {
      "text/plain": [
       "array([36, 21, 34, ..., 29, 37, 23])"
      ]
     },
     "execution_count": 6,
     "metadata": {},
     "output_type": "execute_result"
    }
   ],
   "source": [
    "participant_ids = df[\"participant\"].values\n",
    "participant_ids"
   ]
  },
  {
   "cell_type": "code",
   "execution_count": 7,
   "id": "4579e01524251ac7",
   "metadata": {
    "ExecuteTime": {
     "end_time": "2023-12-14T16:44:25.463942407Z",
     "start_time": "2023-12-14T16:44:25.369476321Z"
    },
    "collapsed": false,
    "jupyter": {
     "outputs_hidden": false
    }
   },
   "outputs": [
    {
     "data": {
      "text/html": [
       "<div>\n",
       "<style scoped>\n",
       "    .dataframe tbody tr th:only-of-type {\n",
       "        vertical-align: middle;\n",
       "    }\n",
       "\n",
       "    .dataframe tbody tr th {\n",
       "        vertical-align: top;\n",
       "    }\n",
       "\n",
       "    .dataframe thead th {\n",
       "        text-align: right;\n",
       "    }\n",
       "</style>\n",
       "<table border=\"1\" class=\"dataframe\">\n",
       "  <thead>\n",
       "    <tr style=\"text-align: right;\">\n",
       "      <th></th>\n",
       "      <th>Unnamed: 0.1</th>\n",
       "      <th>Unnamed: 0</th>\n",
       "      <th>F0semitoneFrom27.5Hz_sma3nz_amean</th>\n",
       "      <th>F0semitoneFrom27.5Hz_sma3nz_stddevNorm</th>\n",
       "      <th>F0semitoneFrom27.5Hz_sma3nz_percentile20.0</th>\n",
       "      <th>F0semitoneFrom27.5Hz_sma3nz_percentile50.0</th>\n",
       "      <th>F0semitoneFrom27.5Hz_sma3nz_percentile80.0</th>\n",
       "      <th>F0semitoneFrom27.5Hz_sma3nz_pctlrange0-2</th>\n",
       "      <th>F0semitoneFrom27.5Hz_sma3nz_meanRisingSlope</th>\n",
       "      <th>F0semitoneFrom27.5Hz_sma3nz_stddevRisingSlope</th>\n",
       "      <th>...</th>\n",
       "      <th>accuracy</th>\n",
       "      <th>confidence_level</th>\n",
       "      <th>confidence_type</th>\n",
       "      <th>free_cued_recall</th>\n",
       "      <th>CumPauseLength</th>\n",
       "      <th>MeanPauseSegmentLength</th>\n",
       "      <th>PausesAbove0.5Sec</th>\n",
       "      <th>PausesAbove1Sec</th>\n",
       "      <th>PausesAbove1.5Sec</th>\n",
       "      <th>PausesAbove2Sec</th>\n",
       "    </tr>\n",
       "  </thead>\n",
       "  <tbody>\n",
       "    <tr>\n",
       "      <th>0</th>\n",
       "      <td>0</td>\n",
       "      <td>0</td>\n",
       "      <td>0.259983</td>\n",
       "      <td>0.332261</td>\n",
       "      <td>0.866330</td>\n",
       "      <td>0.506420</td>\n",
       "      <td>0.320359</td>\n",
       "      <td>-0.790661</td>\n",
       "      <td>0.054842</td>\n",
       "      <td>0.289241</td>\n",
       "      <td>...</td>\n",
       "      <td>0</td>\n",
       "      <td>20.0</td>\n",
       "      <td>1.0</td>\n",
       "      <td>2</td>\n",
       "      <td>0.064130</td>\n",
       "      <td>-0.079352</td>\n",
       "      <td>0.217061</td>\n",
       "      <td>0.942293</td>\n",
       "      <td>-0.490511</td>\n",
       "      <td>-0.429669</td>\n",
       "    </tr>\n",
       "    <tr>\n",
       "      <th>1</th>\n",
       "      <td>1</td>\n",
       "      <td>0</td>\n",
       "      <td>-0.717108</td>\n",
       "      <td>0.725696</td>\n",
       "      <td>-1.882271</td>\n",
       "      <td>-0.319202</td>\n",
       "      <td>-0.012434</td>\n",
       "      <td>1.862051</td>\n",
       "      <td>-0.836629</td>\n",
       "      <td>-0.675393</td>\n",
       "      <td>...</td>\n",
       "      <td>1</td>\n",
       "      <td>80.0</td>\n",
       "      <td>1.0</td>\n",
       "      <td>2</td>\n",
       "      <td>-0.091515</td>\n",
       "      <td>0.026350</td>\n",
       "      <td>0.220541</td>\n",
       "      <td>0.992432</td>\n",
       "      <td>-0.538028</td>\n",
       "      <td>-0.408248</td>\n",
       "    </tr>\n",
       "    <tr>\n",
       "      <th>2</th>\n",
       "      <td>2</td>\n",
       "      <td>0</td>\n",
       "      <td>-0.566677</td>\n",
       "      <td>-0.205434</td>\n",
       "      <td>-0.120069</td>\n",
       "      <td>-0.761264</td>\n",
       "      <td>-0.667896</td>\n",
       "      <td>-0.572266</td>\n",
       "      <td>0.024613</td>\n",
       "      <td>0.186602</td>\n",
       "      <td>...</td>\n",
       "      <td>1</td>\n",
       "      <td>60.0</td>\n",
       "      <td>1.0</td>\n",
       "      <td>2</td>\n",
       "      <td>5.475477</td>\n",
       "      <td>1.376780</td>\n",
       "      <td>6.037742</td>\n",
       "      <td>2.412091</td>\n",
       "      <td>-0.237356</td>\n",
       "      <td>0.000000</td>\n",
       "    </tr>\n",
       "    <tr>\n",
       "      <th>3</th>\n",
       "      <td>3</td>\n",
       "      <td>0</td>\n",
       "      <td>0.919177</td>\n",
       "      <td>-0.523623</td>\n",
       "      <td>1.150908</td>\n",
       "      <td>1.216159</td>\n",
       "      <td>0.367601</td>\n",
       "      <td>-0.741268</td>\n",
       "      <td>-0.271717</td>\n",
       "      <td>-0.377001</td>\n",
       "      <td>...</td>\n",
       "      <td>1</td>\n",
       "      <td>100.0</td>\n",
       "      <td>2.0</td>\n",
       "      <td>2</td>\n",
       "      <td>-0.756171</td>\n",
       "      <td>-0.630867</td>\n",
       "      <td>-0.715078</td>\n",
       "      <td>-0.456357</td>\n",
       "      <td>-0.313993</td>\n",
       "      <td>-0.232495</td>\n",
       "    </tr>\n",
       "    <tr>\n",
       "      <th>4</th>\n",
       "      <td>4</td>\n",
       "      <td>0</td>\n",
       "      <td>0.388853</td>\n",
       "      <td>-0.532196</td>\n",
       "      <td>0.628008</td>\n",
       "      <td>-0.127185</td>\n",
       "      <td>-0.194455</td>\n",
       "      <td>-0.701555</td>\n",
       "      <td>-0.916483</td>\n",
       "      <td>-0.569107</td>\n",
       "      <td>...</td>\n",
       "      <td>1</td>\n",
       "      <td>80.0</td>\n",
       "      <td>1.0</td>\n",
       "      <td>2</td>\n",
       "      <td>-0.393502</td>\n",
       "      <td>-0.349288</td>\n",
       "      <td>-0.095453</td>\n",
       "      <td>-0.621455</td>\n",
       "      <td>-0.502331</td>\n",
       "      <td>-0.443203</td>\n",
       "    </tr>\n",
       "    <tr>\n",
       "      <th>...</th>\n",
       "      <td>...</td>\n",
       "      <td>...</td>\n",
       "      <td>...</td>\n",
       "      <td>...</td>\n",
       "      <td>...</td>\n",
       "      <td>...</td>\n",
       "      <td>...</td>\n",
       "      <td>...</td>\n",
       "      <td>...</td>\n",
       "      <td>...</td>\n",
       "      <td>...</td>\n",
       "      <td>...</td>\n",
       "      <td>...</td>\n",
       "      <td>...</td>\n",
       "      <td>...</td>\n",
       "      <td>...</td>\n",
       "      <td>...</td>\n",
       "      <td>...</td>\n",
       "      <td>...</td>\n",
       "      <td>...</td>\n",
       "      <td>...</td>\n",
       "    </tr>\n",
       "    <tr>\n",
       "      <th>3332</th>\n",
       "      <td>3332</td>\n",
       "      <td>0</td>\n",
       "      <td>-0.450267</td>\n",
       "      <td>1.362586</td>\n",
       "      <td>-1.129102</td>\n",
       "      <td>-0.455241</td>\n",
       "      <td>0.339407</td>\n",
       "      <td>1.720947</td>\n",
       "      <td>0.798251</td>\n",
       "      <td>0.744770</td>\n",
       "      <td>...</td>\n",
       "      <td>1</td>\n",
       "      <td>80.0</td>\n",
       "      <td>1.0</td>\n",
       "      <td>2</td>\n",
       "      <td>0.455788</td>\n",
       "      <td>0.122313</td>\n",
       "      <td>1.659524</td>\n",
       "      <td>0.928705</td>\n",
       "      <td>-0.500835</td>\n",
       "      <td>-0.429669</td>\n",
       "    </tr>\n",
       "    <tr>\n",
       "      <th>3333</th>\n",
       "      <td>3333</td>\n",
       "      <td>0</td>\n",
       "      <td>-0.211937</td>\n",
       "      <td>-0.124017</td>\n",
       "      <td>0.559091</td>\n",
       "      <td>0.318900</td>\n",
       "      <td>-0.378290</td>\n",
       "      <td>-0.804033</td>\n",
       "      <td>0.598907</td>\n",
       "      <td>0.307612</td>\n",
       "      <td>...</td>\n",
       "      <td>1</td>\n",
       "      <td>80.0</td>\n",
       "      <td>2.0</td>\n",
       "      <td>2</td>\n",
       "      <td>-0.221153</td>\n",
       "      <td>-0.200000</td>\n",
       "      <td>-0.715078</td>\n",
       "      <td>-0.456357</td>\n",
       "      <td>-0.313993</td>\n",
       "      <td>-0.232495</td>\n",
       "    </tr>\n",
       "    <tr>\n",
       "      <th>3334</th>\n",
       "      <td>3334</td>\n",
       "      <td>0</td>\n",
       "      <td>0.043278</td>\n",
       "      <td>-0.212633</td>\n",
       "      <td>0.459059</td>\n",
       "      <td>0.032353</td>\n",
       "      <td>-0.061197</td>\n",
       "      <td>-0.793500</td>\n",
       "      <td>0.414662</td>\n",
       "      <td>1.239616</td>\n",
       "      <td>...</td>\n",
       "      <td>1</td>\n",
       "      <td>100.0</td>\n",
       "      <td>1.0</td>\n",
       "      <td>1</td>\n",
       "      <td>0.528203</td>\n",
       "      <td>-0.246869</td>\n",
       "      <td>-0.653204</td>\n",
       "      <td>-0.551487</td>\n",
       "      <td>-0.313050</td>\n",
       "      <td>0.000000</td>\n",
       "    </tr>\n",
       "    <tr>\n",
       "      <th>3335</th>\n",
       "      <td>3335</td>\n",
       "      <td>0</td>\n",
       "      <td>-1.120744</td>\n",
       "      <td>1.811996</td>\n",
       "      <td>-2.040631</td>\n",
       "      <td>0.103935</td>\n",
       "      <td>0.535386</td>\n",
       "      <td>2.230362</td>\n",
       "      <td>0.452582</td>\n",
       "      <td>-0.727131</td>\n",
       "      <td>...</td>\n",
       "      <td>1</td>\n",
       "      <td>100.0</td>\n",
       "      <td>1.0</td>\n",
       "      <td>1</td>\n",
       "      <td>-0.614963</td>\n",
       "      <td>-0.673075</td>\n",
       "      <td>-0.428496</td>\n",
       "      <td>-0.256495</td>\n",
       "      <td>-0.111803</td>\n",
       "      <td>0.000000</td>\n",
       "    </tr>\n",
       "    <tr>\n",
       "      <th>3336</th>\n",
       "      <td>3336</td>\n",
       "      <td>0</td>\n",
       "      <td>1.174803</td>\n",
       "      <td>-0.799441</td>\n",
       "      <td>1.109780</td>\n",
       "      <td>0.799751</td>\n",
       "      <td>0.695831</td>\n",
       "      <td>-0.880533</td>\n",
       "      <td>-0.084700</td>\n",
       "      <td>0.117017</td>\n",
       "      <td>...</td>\n",
       "      <td>1</td>\n",
       "      <td>60.0</td>\n",
       "      <td>1.0</td>\n",
       "      <td>2</td>\n",
       "      <td>-0.089878</td>\n",
       "      <td>0.120094</td>\n",
       "      <td>-0.588348</td>\n",
       "      <td>-0.361787</td>\n",
       "      <td>-0.301511</td>\n",
       "      <td>-0.169031</td>\n",
       "    </tr>\n",
       "  </tbody>\n",
       "</table>\n",
       "<p>3337 rows × 105 columns</p>\n",
       "</div>"
      ],
      "text/plain": [
       "      Unnamed: 0.1  Unnamed: 0  F0semitoneFrom27.5Hz_sma3nz_amean  \\\n",
       "0                0           0                           0.259983   \n",
       "1                1           0                          -0.717108   \n",
       "2                2           0                          -0.566677   \n",
       "3                3           0                           0.919177   \n",
       "4                4           0                           0.388853   \n",
       "...            ...         ...                                ...   \n",
       "3332          3332           0                          -0.450267   \n",
       "3333          3333           0                          -0.211937   \n",
       "3334          3334           0                           0.043278   \n",
       "3335          3335           0                          -1.120744   \n",
       "3336          3336           0                           1.174803   \n",
       "\n",
       "      F0semitoneFrom27.5Hz_sma3nz_stddevNorm  \\\n",
       "0                                   0.332261   \n",
       "1                                   0.725696   \n",
       "2                                  -0.205434   \n",
       "3                                  -0.523623   \n",
       "4                                  -0.532196   \n",
       "...                                      ...   \n",
       "3332                                1.362586   \n",
       "3333                               -0.124017   \n",
       "3334                               -0.212633   \n",
       "3335                                1.811996   \n",
       "3336                               -0.799441   \n",
       "\n",
       "      F0semitoneFrom27.5Hz_sma3nz_percentile20.0  \\\n",
       "0                                       0.866330   \n",
       "1                                      -1.882271   \n",
       "2                                      -0.120069   \n",
       "3                                       1.150908   \n",
       "4                                       0.628008   \n",
       "...                                          ...   \n",
       "3332                                   -1.129102   \n",
       "3333                                    0.559091   \n",
       "3334                                    0.459059   \n",
       "3335                                   -2.040631   \n",
       "3336                                    1.109780   \n",
       "\n",
       "      F0semitoneFrom27.5Hz_sma3nz_percentile50.0  \\\n",
       "0                                       0.506420   \n",
       "1                                      -0.319202   \n",
       "2                                      -0.761264   \n",
       "3                                       1.216159   \n",
       "4                                      -0.127185   \n",
       "...                                          ...   \n",
       "3332                                   -0.455241   \n",
       "3333                                    0.318900   \n",
       "3334                                    0.032353   \n",
       "3335                                    0.103935   \n",
       "3336                                    0.799751   \n",
       "\n",
       "      F0semitoneFrom27.5Hz_sma3nz_percentile80.0  \\\n",
       "0                                       0.320359   \n",
       "1                                      -0.012434   \n",
       "2                                      -0.667896   \n",
       "3                                       0.367601   \n",
       "4                                      -0.194455   \n",
       "...                                          ...   \n",
       "3332                                    0.339407   \n",
       "3333                                   -0.378290   \n",
       "3334                                   -0.061197   \n",
       "3335                                    0.535386   \n",
       "3336                                    0.695831   \n",
       "\n",
       "      F0semitoneFrom27.5Hz_sma3nz_pctlrange0-2  \\\n",
       "0                                    -0.790661   \n",
       "1                                     1.862051   \n",
       "2                                    -0.572266   \n",
       "3                                    -0.741268   \n",
       "4                                    -0.701555   \n",
       "...                                        ...   \n",
       "3332                                  1.720947   \n",
       "3333                                 -0.804033   \n",
       "3334                                 -0.793500   \n",
       "3335                                  2.230362   \n",
       "3336                                 -0.880533   \n",
       "\n",
       "      F0semitoneFrom27.5Hz_sma3nz_meanRisingSlope  \\\n",
       "0                                        0.054842   \n",
       "1                                       -0.836629   \n",
       "2                                        0.024613   \n",
       "3                                       -0.271717   \n",
       "4                                       -0.916483   \n",
       "...                                           ...   \n",
       "3332                                     0.798251   \n",
       "3333                                     0.598907   \n",
       "3334                                     0.414662   \n",
       "3335                                     0.452582   \n",
       "3336                                    -0.084700   \n",
       "\n",
       "      F0semitoneFrom27.5Hz_sma3nz_stddevRisingSlope  ...  accuracy  \\\n",
       "0                                          0.289241  ...         0   \n",
       "1                                         -0.675393  ...         1   \n",
       "2                                          0.186602  ...         1   \n",
       "3                                         -0.377001  ...         1   \n",
       "4                                         -0.569107  ...         1   \n",
       "...                                             ...  ...       ...   \n",
       "3332                                       0.744770  ...         1   \n",
       "3333                                       0.307612  ...         1   \n",
       "3334                                       1.239616  ...         1   \n",
       "3335                                      -0.727131  ...         1   \n",
       "3336                                       0.117017  ...         1   \n",
       "\n",
       "      confidence_level  confidence_type  free_cued_recall  CumPauseLength  \\\n",
       "0                 20.0              1.0                 2        0.064130   \n",
       "1                 80.0              1.0                 2       -0.091515   \n",
       "2                 60.0              1.0                 2        5.475477   \n",
       "3                100.0              2.0                 2       -0.756171   \n",
       "4                 80.0              1.0                 2       -0.393502   \n",
       "...                ...              ...               ...             ...   \n",
       "3332              80.0              1.0                 2        0.455788   \n",
       "3333              80.0              2.0                 2       -0.221153   \n",
       "3334             100.0              1.0                 1        0.528203   \n",
       "3335             100.0              1.0                 1       -0.614963   \n",
       "3336              60.0              1.0                 2       -0.089878   \n",
       "\n",
       "      MeanPauseSegmentLength  PausesAbove0.5Sec  PausesAbove1Sec  \\\n",
       "0                  -0.079352           0.217061         0.942293   \n",
       "1                   0.026350           0.220541         0.992432   \n",
       "2                   1.376780           6.037742         2.412091   \n",
       "3                  -0.630867          -0.715078        -0.456357   \n",
       "4                  -0.349288          -0.095453        -0.621455   \n",
       "...                      ...                ...              ...   \n",
       "3332                0.122313           1.659524         0.928705   \n",
       "3333               -0.200000          -0.715078        -0.456357   \n",
       "3334               -0.246869          -0.653204        -0.551487   \n",
       "3335               -0.673075          -0.428496        -0.256495   \n",
       "3336                0.120094          -0.588348        -0.361787   \n",
       "\n",
       "      PausesAbove1.5Sec  PausesAbove2Sec  \n",
       "0             -0.490511        -0.429669  \n",
       "1             -0.538028        -0.408248  \n",
       "2             -0.237356         0.000000  \n",
       "3             -0.313993        -0.232495  \n",
       "4             -0.502331        -0.443203  \n",
       "...                 ...              ...  \n",
       "3332          -0.500835        -0.429669  \n",
       "3333          -0.313993        -0.232495  \n",
       "3334          -0.313050         0.000000  \n",
       "3335          -0.111803         0.000000  \n",
       "3336          -0.301511        -0.169031  \n",
       "\n",
       "[3337 rows x 105 columns]"
      ]
     },
     "execution_count": 7,
     "metadata": {},
     "output_type": "execute_result"
    }
   ],
   "source": [
    "df[AUDIO_FUNCTIONALS_EGEMAPS_V2_COLS_NEW_FEATURES] = within_subject_functional_normalization(\n",
    "                                                df[AUDIO_FUNCTIONALS_EGEMAPS_V2_COLS_NEW_FEATURES],\n",
    "                                                participant_ids,\n",
    "                                                \"standard\")\n",
    "df"
   ]
  },
  {
   "cell_type": "code",
   "execution_count": 8,
   "id": "26f692c90834209b",
   "metadata": {
    "ExecuteTime": {
     "end_time": "2023-12-14T16:44:25.464792542Z",
     "start_time": "2023-12-14T16:44:25.462293540Z"
    },
    "collapsed": false,
    "jupyter": {
     "outputs_hidden": false
    }
   },
   "outputs": [],
   "source": [
    "y = df[\"accuracy\"].values\n",
    "x = df[AUDIO_FUNCTIONALS_EGEMAPS_V2_COLS_NEW_FEATURES].values"
   ]
  },
  {
   "cell_type": "code",
   "execution_count": 9,
   "id": "d1fd8f3be2390a3",
   "metadata": {
    "ExecuteTime": {
     "end_time": "2023-12-14T16:44:25.523489240Z",
     "start_time": "2023-12-14T16:44:25.465836885Z"
    },
    "collapsed": false,
    "jupyter": {
     "outputs_hidden": false
    }
   },
   "outputs": [
    {
     "data": {
      "image/png": "[encoded data removed]",
      "text/plain": [
       "<Figure size 640x480 with 1 Axes>"
      ]
     },
     "metadata": {},
     "output_type": "display_data"
    }
   ],
   "source": [
    "plot_hist(y, \"labels\")"
   ]
  },
  {
   "cell_type": "code",
   "execution_count": 10,
   "id": "fcb68c833fb06081",
   "metadata": {
    "ExecuteTime": {
     "end_time": "2023-12-14T16:44:25.696364296Z",
     "start_time": "2023-12-14T16:44:25.523798498Z"
    },
    "collapsed": false,
    "jupyter": {
     "outputs_hidden": false
    }
   },
   "outputs": [
    {
     "name": "stdout",
     "output_type": "stream",
     "text": [
      "\n",
      "printing roc_auc measures\n",
      "avg (train): 0.6496926014892807\n",
      "std (train): 0.006753227633612639\n",
      "avg (validation): 0.6317582833070137\n",
      "std (validation): 0.01870724346005126\n"
     ]
    }
   ],
   "source": [
    "# Create a LogisticRegression model with L1 (Lasso) regularization\n",
    "lasso_logistic = LogisticRegression(penalty='l1', solver='liblinear', C=0.03)\n",
    "\n",
    "evaluate_scores(x, y, lasso_logistic, \"roc_auc\")"
   ]
  },
  {
   "cell_type": "code",
   "execution_count": 11,
   "id": "2b3ce86debc11d96",
   "metadata": {
    "ExecuteTime": {
     "end_time": "2023-12-14T16:44:25.857356309Z",
     "start_time": "2023-12-14T16:44:25.696355163Z"
    },
    "collapsed": false,
    "jupyter": {
     "outputs_hidden": false
    }
   },
   "outputs": [],
   "source": [
    "scores = cross_validate(lasso_logistic, x, y, scoring=\"roc_auc\", return_estimator=True)"
   ]
  },
  {
   "cell_type": "code",
   "execution_count": 12,
   "id": "d49c79dc91368be1",
   "metadata": {
    "ExecuteTime": {
     "end_time": "2023-12-14T16:44:25.903300258Z",
     "start_time": "2023-12-14T16:44:25.859702268Z"
    },
    "collapsed": false,
    "jupyter": {
     "outputs_hidden": false
    }
   },
   "outputs": [
    {
     "data": {
      "text/plain": [
       "1"
      ]
     },
     "execution_count": 12,
     "metadata": {},
     "output_type": "execute_result"
    }
   ],
   "source": [
    "scores[\"test_score\"].argmax()"
   ]
  },
  {
   "cell_type": "code",
   "execution_count": 13,
   "id": "d370228029b28849",
   "metadata": {
    "ExecuteTime": {
     "end_time": "2023-12-14T16:44:25.905531617Z",
     "start_time": "2023-12-14T16:44:25.902859766Z"
    },
    "collapsed": false,
    "jupyter": {
     "outputs_hidden": false
    }
   },
   "outputs": [],
   "source": [
    "best_estimator = scores[\"estimator\"][scores[\"test_score\"].argmax()]"
   ]
  },
  {
   "cell_type": "code",
   "execution_count": 14,
   "id": "3963b39ad14881e9",
   "metadata": {
    "ExecuteTime": {
     "end_time": "2023-12-14T16:44:25.907370584Z",
     "start_time": "2023-12-14T16:44:25.902982888Z"
    },
    "collapsed": false,
    "jupyter": {
     "outputs_hidden": false
    }
   },
   "outputs": [],
   "source": [
    "coeffs = []\n",
    "for i in scores[\"estimator\"]:\n",
    "    coeffs.append(i.coef_)\n",
    "    \n",
    "coeffs_mat = np.vstack(coeffs)"
   ]
  },
  {
   "cell_type": "markdown",
   "id": "75495d272a7dd221",
   "metadata": {
    "collapsed": false,
    "jupyter": {
     "outputs_hidden": false
    }
   },
   "source": [
    "## Feature importance \n",
    "\n",
    "**Positive coefficients**: Feature contributes to observation belonging to positive class (accurate statements).\n",
    "\n",
    " **Negative coefficients**: Feature contributes to observation belonging to negative class (inaccurate statements).\n"
   ]
  },
  {
   "cell_type": "markdown",
   "id": "7c9ff01412cbf329",
   "metadata": {
    "collapsed": false,
    "jupyter": {
     "outputs_hidden": false
    }
   },
   "source": [
    "### Top 10 features"
   ]
  },
  {
   "cell_type": "code",
   "execution_count": 15,
   "id": "4575857d0122480e",
   "metadata": {
    "ExecuteTime": {
     "end_time": "2023-12-14T16:44:26.070474799Z",
     "start_time": "2023-12-14T16:44:25.903054603Z"
    },
    "collapsed": false,
    "jupyter": {
     "outputs_hidden": false
    }
   },
   "outputs": [
    {
     "data": {
      "image/png": "[encoded data removed]",
      "text/plain": [
       "<Figure size 600x400 with 1 Axes>"
      ]
     },
     "metadata": {},
     "output_type": "display_data"
    }
   ],
   "source": [
    "import numpy as np\n",
    "\n",
    "\n",
    "from sklearn.preprocessing import normalize\n",
    "\n",
    "normed_coeffs_mat = normalize(coeffs_mat, norm='l1')\n",
    "\n",
    "coefficients_mean = np.mean(normed_coeffs_mat, axis = 0)\n",
    "coefficients_std = np.std(normed_coeffs_mat, axis=0)\n",
    "\n",
    "\n",
    "k = 10  # Adjust the number of top features to display\n",
    "top_indices = np.abs(coefficients_mean).argsort()[-k:]\n",
    "top_coefficients = coefficients_mean[top_indices]\n",
    "top_feature_names = [AUDIO_FUNCTIONALS_EGEMAPS_V2_COLS_NEW_FEATURES[i] for i in top_indices]\n",
    "\n",
    "top_feature_pretty_names = []\n",
    "for i in top_feature_names:\n",
    "    top_feature_pretty_names.append(var_name_to_feat[i])\n",
    "\n",
    "plt.figure(figsize=(6, 4))\n",
    "plt.barh(top_feature_pretty_names, top_coefficients, xerr=coefficients_std[top_indices])\n",
    "plt.xlabel('Coefficient Value')\n",
    "plt.title(f'Top {k} Features (Lasso Logistic Regression)')\n",
    "plt.show()"
   ]
  },
  {
   "cell_type": "code",
   "execution_count": 16,
   "id": "6bf9c33b131144aa",
   "metadata": {
    "ExecuteTime": {
     "end_time": "2023-12-14T16:44:26.071235356Z",
     "start_time": "2023-12-14T16:44:26.062873132Z"
    },
    "collapsed": false,
    "jupyter": {
     "outputs_hidden": false
    }
   },
   "outputs": [
    {
     "data": {
      "text/plain": [
       "array([-0.0249911 ,  0.03140784,  0.03330306, -0.03831543, -0.03924518,\n",
       "       -0.04594428,  0.08552695, -0.09342591,  0.15491099,  0.31839592])"
      ]
     },
     "execution_count": 16,
     "metadata": {},
     "output_type": "execute_result"
    }
   ],
   "source": [
    "top_coefficients"
   ]
  },
  {
   "cell_type": "code",
   "execution_count": 17,
   "id": "1355e53ce04fc005",
   "metadata": {
    "ExecuteTime": {
     "end_time": "2023-12-14T16:44:26.071793553Z",
     "start_time": "2023-12-14T16:44:26.062965837Z"
    },
    "collapsed": false,
    "jupyter": {
     "outputs_hidden": false
    }
   },
   "outputs": [
    {
     "data": {
      "text/plain": [
       "array([0.01638469, 0.02058816, 0.05903364, 0.03827543, 0.03980609,\n",
       "       0.0200845 , 0.02602467, 0.01850323, 0.06889249, 0.07339402])"
      ]
     },
     "execution_count": 17,
     "metadata": {},
     "output_type": "execute_result"
    }
   ],
   "source": [
    "coefficients_std[top_indices]"
   ]
  },
  {
   "cell_type": "code",
   "execution_count": 18,
   "id": "7f85f1d4380fbb81",
   "metadata": {
    "ExecuteTime": {
     "end_time": "2023-12-14T16:44:26.072468182Z",
     "start_time": "2023-12-14T16:44:26.063007693Z"
    },
    "collapsed": false,
    "jupyter": {
     "outputs_hidden": false
    }
   },
   "outputs": [
    {
     "data": {
      "text/html": [
       "<div>\n",
       "<style scoped>\n",
       "    .dataframe tbody tr th:only-of-type {\n",
       "        vertical-align: middle;\n",
       "    }\n",
       "\n",
       "    .dataframe tbody tr th {\n",
       "        vertical-align: top;\n",
       "    }\n",
       "\n",
       "    .dataframe thead th {\n",
       "        text-align: right;\n",
       "    }\n",
       "</style>\n",
       "<table border=\"1\" class=\"dataframe\">\n",
       "  <thead>\n",
       "    <tr style=\"text-align: right;\">\n",
       "      <th></th>\n",
       "      <th>feature</th>\n",
       "      <th>M</th>\n",
       "      <th>SD</th>\n",
       "    </tr>\n",
       "  </thead>\n",
       "  <tbody>\n",
       "    <tr>\n",
       "      <th>0</th>\n",
       "      <td>H1-H2 M</td>\n",
       "      <td>-0.024991</td>\n",
       "      <td>0.016385</td>\n",
       "    </tr>\n",
       "    <tr>\n",
       "      <th>1</th>\n",
       "      <td>F3 frequency M</td>\n",
       "      <td>0.031408</td>\n",
       "      <td>0.020588</td>\n",
       "    </tr>\n",
       "    <tr>\n",
       "      <th>2</th>\n",
       "      <td>Loudness P80</td>\n",
       "      <td>0.033303</td>\n",
       "      <td>0.059034</td>\n",
       "    </tr>\n",
       "    <tr>\n",
       "      <th>3</th>\n",
       "      <td>F1 amplitude CV</td>\n",
       "      <td>-0.038315</td>\n",
       "      <td>0.038275</td>\n",
       "    </tr>\n",
       "    <tr>\n",
       "      <th>4</th>\n",
       "      <td>MFCC2 (voiced) M</td>\n",
       "      <td>-0.039245</td>\n",
       "      <td>0.039806</td>\n",
       "    </tr>\n",
       "    <tr>\n",
       "      <th>5</th>\n",
       "      <td>MFCC4 (voiced) M</td>\n",
       "      <td>-0.045944</td>\n",
       "      <td>0.020084</td>\n",
       "    </tr>\n",
       "    <tr>\n",
       "      <th>6</th>\n",
       "      <td>Spectral flux (voiced) M</td>\n",
       "      <td>0.085527</td>\n",
       "      <td>0.026025</td>\n",
       "    </tr>\n",
       "    <tr>\n",
       "      <th>7</th>\n",
       "      <td>Cumulative Pause Length</td>\n",
       "      <td>-0.093426</td>\n",
       "      <td>0.018503</td>\n",
       "    </tr>\n",
       "    <tr>\n",
       "      <th>8</th>\n",
       "      <td>Loudness P range</td>\n",
       "      <td>0.154911</td>\n",
       "      <td>0.068892</td>\n",
       "    </tr>\n",
       "    <tr>\n",
       "      <th>9</th>\n",
       "      <td>F2 amplitude M</td>\n",
       "      <td>0.318396</td>\n",
       "      <td>0.073394</td>\n",
       "    </tr>\n",
       "  </tbody>\n",
       "</table>\n",
       "</div>"
      ],
      "text/plain": [
       "                    feature         M        SD\n",
       "0                   H1-H2 M -0.024991  0.016385\n",
       "1            F3 frequency M  0.031408  0.020588\n",
       "2              Loudness P80  0.033303  0.059034\n",
       "3           F1 amplitude CV -0.038315  0.038275\n",
       "4          MFCC2 (voiced) M -0.039245  0.039806\n",
       "5          MFCC4 (voiced) M -0.045944  0.020084\n",
       "6  Spectral flux (voiced) M  0.085527  0.026025\n",
       "7   Cumulative Pause Length -0.093426  0.018503\n",
       "8          Loudness P range  0.154911  0.068892\n",
       "9            F2 amplitude M  0.318396  0.073394"
      ]
     },
     "execution_count": 18,
     "metadata": {},
     "output_type": "execute_result"
    }
   ],
   "source": [
    "df_coeff = pd.DataFrame({\"feature\": top_feature_pretty_names, \"M\": top_coefficients, \"SD\": coefficients_std[top_indices]})\n",
    "df_coeff"
   ]
  },
  {
   "cell_type": "markdown",
   "id": "b19e3c0e088ff226",
   "metadata": {
    "collapsed": false,
    "jupyter": {
     "outputs_hidden": false
    }
   },
   "source": [
    "### All retained (non-zero coefficient) features"
   ]
  },
  {
   "cell_type": "code",
   "execution_count": 19,
   "id": "6216b23e101122cd",
   "metadata": {
    "ExecuteTime": {
     "end_time": "2023-12-14T16:44:26.219680546Z",
     "start_time": "2023-12-14T16:44:26.063043056Z"
    },
    "collapsed": false,
    "jupyter": {
     "outputs_hidden": false
    }
   },
   "outputs": [
    {
     "data": {
      "image/png": "[encoded data removed]",
      "text/plain": [
       "<Figure size 1000x1160 with 1 Axes>"
      ]
     },
     "metadata": {},
     "output_type": "display_data"
    }
   ],
   "source": [
    "import matplotlib.pyplot as plt\n",
    "\n",
    "feature_names = AUDIO_FUNCTIONALS_EGEMAPS_V2_COLS_NEW_FEATURES \n",
    "\n",
    "# Filter out features with coefficient values of 0\n",
    "nonzero_coefficients = coefficients_mean[coefficients_mean != 0]\n",
    "nonzero_feature_names = [feature_names[i] for i, coef in enumerate(coefficients_mean) if coef != 0]\n",
    "\n",
    "# Sort nonzero coefficients by absolute value\n",
    "sorted_indices = nonzero_coefficients.argsort()\n",
    "sorted_coefficients = nonzero_coefficients[sorted_indices]\n",
    "sorted_feature_names = [nonzero_feature_names[i] for i in sorted_indices]\n",
    "\n",
    "plt.figure(figsize=(10, len(sorted_feature_names) * 0.4))\n",
    "plt.barh(sorted_feature_names, sorted_coefficients)\n",
    "plt.xlabel('Coefficient Value')\n",
    "plt.title('Feature Importance (Lasso Logistic Regression)')\n",
    "plt.show()"
   ]
  },
  {
   "cell_type": "code",
   "execution_count": 20,
   "id": "87c2d3a721d13e0b",
   "metadata": {
    "ExecuteTime": {
     "end_time": "2023-12-14T16:44:28.252511681Z",
     "start_time": "2023-12-14T16:44:26.221108700Z"
    },
    "collapsed": false,
    "jupyter": {
     "outputs_hidden": false
    }
   },
   "outputs": [],
   "source": [
    "splits = get_splits(x, y)\n",
    "\n",
    "importances = None\n",
    "\n",
    "for train_index, val_index in splits:\n",
    "    X_train, y_train = x[train_index], y[train_index]\n",
    "    X_val, y_val = x[val_index], y[val_index]\n",
    "\n",
    "    lasso_logistic.fit(X_train, y_train)\n",
    "\n",
    "    result = permutation_importance(lasso_logistic, X_val, y_val, n_repeats=20, n_jobs=-1, scoring=\"roc_auc\")\n",
    "\n",
    "    if not type(importances) == np.ndarray:\n",
    "        importances = result['importances']\n",
    "    else:\n",
    "        importances = np.hstack([importances, result['importances']])"
   ]
  },
  {
   "cell_type": "code",
   "execution_count": 21,
   "id": "8374ff0517def016",
   "metadata": {
    "ExecuteTime": {
     "end_time": "2023-12-14T16:44:28.258710925Z",
     "start_time": "2023-12-14T16:44:28.254553960Z"
    },
    "collapsed": false,
    "jupyter": {
     "outputs_hidden": false
    }
   },
   "outputs": [],
   "source": [
    "d = {\"importances\": importances,\n",
    "     \"importances_mean\": np.mean(importances, axis=1),\n",
    "     \"importances_std\": np.std(importances, axis=1)}\n",
    "\n",
    "perm_sorted_idx = d['importances_mean'].argsort()"
   ]
  },
  {
   "cell_type": "code",
   "execution_count": 22,
   "id": "e5f227e089a3067d",
   "metadata": {
    "ExecuteTime": {
     "end_time": "2023-12-14T16:44:28.267599445Z",
     "start_time": "2023-12-14T16:44:28.257026127Z"
    },
    "collapsed": false,
    "jupyter": {
     "outputs_hidden": false
    }
   },
   "outputs": [],
   "source": [
    "AUDIO_FUNCTIONALS_EGEMAPS_V2_COLS_NEW_FEATURES = np.asarray(AUDIO_FUNCTIONALS_EGEMAPS_V2_COLS_NEW_FEATURES)"
   ]
  },
  {
   "cell_type": "code",
   "execution_count": 23,
   "id": "3efea42116e4febe",
   "metadata": {
    "ExecuteTime": {
     "end_time": "2023-12-14T16:44:28.377544220Z",
     "start_time": "2023-12-14T16:44:28.277214098Z"
    },
    "collapsed": false,
    "jupyter": {
     "outputs_hidden": false
    }
   },
   "outputs": [
    {
     "data": {
      "image/png": "[encoded data removed]",
      "text/plain": [
       "<Figure size 800x400 with 1 Axes>"
      ]
     },
     "metadata": {},
     "output_type": "display_data"
    }
   ],
   "source": [
    "# Number of top features to display\n",
    "top_n = 10\n",
    "\n",
    "fig, ax = plt.subplots(figsize=(8, 4))\n",
    "\n",
    "# Get the top N features and their importances\n",
    "top_features = AUDIO_FUNCTIONALS_EGEMAPS_V2_COLS_NEW_FEATURES[perm_sorted_idx][-top_n:]\n",
    "top_importances = importances[perm_sorted_idx].T[:, -top_n:]\n",
    "\n",
    "\n",
    "top_features_pretty = []\n",
    "for i in top_features:\n",
    "    top_features_pretty.append(var_name_to_feat[i])\n",
    "\n",
    "\n",
    "# Create the boxplot for the top features\n",
    "ax.boxplot(top_importances, vert=False, labels=top_features_pretty)\n",
    "ax.axvline(x=0, color=\"k\", linestyle=\"--\")\n",
    "\n",
    "ax.set_title(\"Permutation Importances on Top 10 features\")\n",
    "ax.set_xlabel(\"Decrease in ROC AUC score\")\n",
    "ax.figure.tight_layout()\n",
    "plt.show()"
   ]
  },
  {
   "cell_type": "code",
   "execution_count": 24,
   "id": "f3dd837bfe5e7ee4",
   "metadata": {
    "ExecuteTime": {
     "end_time": "2023-12-14T16:44:28.379229778Z",
     "start_time": "2023-12-14T16:44:28.377568502Z"
    },
    "collapsed": false,
    "jupyter": {
     "outputs_hidden": false
    }
   },
   "outputs": [
    {
     "data": {
      "text/plain": [
       "array([0.00030708, 0.0003909 , 0.00058001, 0.00095355, 0.00127881,\n",
       "       0.00303921, 0.00404586, 0.00461335, 0.00903707, 0.04744086])"
      ]
     },
     "execution_count": 24,
     "metadata": {},
     "output_type": "execute_result"
    }
   ],
   "source": [
    "M = np.mean(top_importances, axis=0)\n",
    "M"
   ]
  },
  {
   "cell_type": "code",
   "execution_count": 25,
   "id": "4d744bcbb2e519ba",
   "metadata": {
    "ExecuteTime": {
     "end_time": "2023-12-14T16:44:28.423478379Z",
     "start_time": "2023-12-14T16:44:28.380002115Z"
    },
    "collapsed": false,
    "jupyter": {
     "outputs_hidden": false
    }
   },
   "outputs": [
    {
     "data": {
      "text/plain": [
       "array([0.00116059, 0.00143952, 0.00195989, 0.00226072, 0.00212374,\n",
       "       0.00777652, 0.00625921, 0.00482092, 0.00985517, 0.01979498])"
      ]
     },
     "execution_count": 25,
     "metadata": {},
     "output_type": "execute_result"
    }
   ],
   "source": [
    "SD = np.std(top_importances, axis=0)\n",
    "SD"
   ]
  },
  {
   "cell_type": "code",
   "execution_count": 26,
   "id": "4ef78a792e6f631a",
   "metadata": {
    "ExecuteTime": {
     "end_time": "2023-12-14T16:44:28.424217124Z",
     "start_time": "2023-12-14T16:44:28.422731738Z"
    },
    "collapsed": false,
    "jupyter": {
     "outputs_hidden": false
    }
   },
   "outputs": [
    {
     "data": {
      "text/html": [
       "<div>\n",
       "<style scoped>\n",
       "    .dataframe tbody tr th:only-of-type {\n",
       "        vertical-align: middle;\n",
       "    }\n",
       "\n",
       "    .dataframe tbody tr th {\n",
       "        vertical-align: top;\n",
       "    }\n",
       "\n",
       "    .dataframe thead th {\n",
       "        text-align: right;\n",
       "    }\n",
       "</style>\n",
       "<table border=\"1\" class=\"dataframe\">\n",
       "  <thead>\n",
       "    <tr style=\"text-align: right;\">\n",
       "      <th></th>\n",
       "      <th>feature</th>\n",
       "      <th>M</th>\n",
       "      <th>SD</th>\n",
       "    </tr>\n",
       "  </thead>\n",
       "  <tbody>\n",
       "    <tr>\n",
       "      <th>0</th>\n",
       "      <td>F0 P20</td>\n",
       "      <td>0.000307</td>\n",
       "      <td>0.001161</td>\n",
       "    </tr>\n",
       "    <tr>\n",
       "      <th>1</th>\n",
       "      <td>Jitter M</td>\n",
       "      <td>0.000391</td>\n",
       "      <td>0.001440</td>\n",
       "    </tr>\n",
       "    <tr>\n",
       "      <th>2</th>\n",
       "      <td>MFCC2 (voiced) M</td>\n",
       "      <td>0.000580</td>\n",
       "      <td>0.001960</td>\n",
       "    </tr>\n",
       "    <tr>\n",
       "      <th>3</th>\n",
       "      <td>MFCC4 (voiced) M</td>\n",
       "      <td>0.000954</td>\n",
       "      <td>0.002261</td>\n",
       "    </tr>\n",
       "    <tr>\n",
       "      <th>4</th>\n",
       "      <td>F3 frequency M</td>\n",
       "      <td>0.001279</td>\n",
       "      <td>0.002124</td>\n",
       "    </tr>\n",
       "    <tr>\n",
       "      <th>5</th>\n",
       "      <td>Loudness P80</td>\n",
       "      <td>0.003039</td>\n",
       "      <td>0.007777</td>\n",
       "    </tr>\n",
       "    <tr>\n",
       "      <th>6</th>\n",
       "      <td>Spectral flux (voiced) M</td>\n",
       "      <td>0.004046</td>\n",
       "      <td>0.006259</td>\n",
       "    </tr>\n",
       "    <tr>\n",
       "      <th>7</th>\n",
       "      <td>Cumulative Pause Length</td>\n",
       "      <td>0.004613</td>\n",
       "      <td>0.004821</td>\n",
       "    </tr>\n",
       "    <tr>\n",
       "      <th>8</th>\n",
       "      <td>Loudness P range</td>\n",
       "      <td>0.009037</td>\n",
       "      <td>0.009855</td>\n",
       "    </tr>\n",
       "    <tr>\n",
       "      <th>9</th>\n",
       "      <td>F2 amplitude M</td>\n",
       "      <td>0.047441</td>\n",
       "      <td>0.019795</td>\n",
       "    </tr>\n",
       "  </tbody>\n",
       "</table>\n",
       "</div>"
      ],
      "text/plain": [
       "                    feature         M        SD\n",
       "0                    F0 P20  0.000307  0.001161\n",
       "1                  Jitter M  0.000391  0.001440\n",
       "2          MFCC2 (voiced) M  0.000580  0.001960\n",
       "3          MFCC4 (voiced) M  0.000954  0.002261\n",
       "4            F3 frequency M  0.001279  0.002124\n",
       "5              Loudness P80  0.003039  0.007777\n",
       "6  Spectral flux (voiced) M  0.004046  0.006259\n",
       "7   Cumulative Pause Length  0.004613  0.004821\n",
       "8          Loudness P range  0.009037  0.009855\n",
       "9            F2 amplitude M  0.047441  0.019795"
      ]
     },
     "execution_count": 26,
     "metadata": {},
     "output_type": "execute_result"
    }
   ],
   "source": [
    "df_imp = pd.DataFrame({'feature':top_features_pretty, 'M':M, 'SD': SD})\n",
    "df_imp"
   ]
  }
 ],
 "metadata": {
  "kernelspec": {
   "display_name": "Python 3 (ipykernel)",
   "language": "python",
   "name": "python3"
  },
  "language_info": {
   "codemirror_mode": {
    "name": "ipython",
    "version": 3
   },
   "file_extension": ".py",
   "mimetype": "text/x-python",
   "name": "python",
   "nbconvert_exporter": "python",
   "pygments_lexer": "ipython3",
   "version": "3.8.10"
  }
 },
 "nbformat": 4,
 "nbformat_minor": 5
}
